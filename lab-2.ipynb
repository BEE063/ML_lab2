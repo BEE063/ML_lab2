{
  "cells": [
    {
      "cell_type": "code",
      "execution_count": 79,
      "metadata": {
        "trusted": true
      },
      "outputs": [
        {
          "data": {
            "text/html": [
              "<div>\n",
              "<style scoped>\n",
              "    .dataframe tbody tr th:only-of-type {\n",
              "        vertical-align: middle;\n",
              "    }\n",
              "\n",
              "    .dataframe tbody tr th {\n",
              "        vertical-align: top;\n",
              "    }\n",
              "\n",
              "    .dataframe thead th {\n",
              "        text-align: right;\n",
              "    }\n",
              "</style>\n",
              "<table border=\"1\" class=\"dataframe\">\n",
              "  <thead>\n",
              "    <tr style=\"text-align: right;\">\n",
              "      <th></th>\n",
              "      <th>Pregnancies</th>\n",
              "      <th>Glucose</th>\n",
              "      <th>BloodPressure</th>\n",
              "      <th>SkinThickness</th>\n",
              "      <th>Insulin</th>\n",
              "      <th>BMI</th>\n",
              "      <th>DiabetesPedigreeFunction</th>\n",
              "      <th>Age</th>\n",
              "      <th>Outcome</th>\n",
              "    </tr>\n",
              "  </thead>\n",
              "  <tbody>\n",
              "    <tr>\n",
              "      <th>0</th>\n",
              "      <td>6</td>\n",
              "      <td>148</td>\n",
              "      <td>72</td>\n",
              "      <td>35</td>\n",
              "      <td>0</td>\n",
              "      <td>33.6</td>\n",
              "      <td>0.627</td>\n",
              "      <td>50</td>\n",
              "      <td>1</td>\n",
              "    </tr>\n",
              "    <tr>\n",
              "      <th>1</th>\n",
              "      <td>1</td>\n",
              "      <td>85</td>\n",
              "      <td>66</td>\n",
              "      <td>29</td>\n",
              "      <td>0</td>\n",
              "      <td>26.6</td>\n",
              "      <td>0.351</td>\n",
              "      <td>31</td>\n",
              "      <td>0</td>\n",
              "    </tr>\n",
              "    <tr>\n",
              "      <th>2</th>\n",
              "      <td>8</td>\n",
              "      <td>183</td>\n",
              "      <td>64</td>\n",
              "      <td>0</td>\n",
              "      <td>0</td>\n",
              "      <td>23.3</td>\n",
              "      <td>0.672</td>\n",
              "      <td>32</td>\n",
              "      <td>1</td>\n",
              "    </tr>\n",
              "    <tr>\n",
              "      <th>3</th>\n",
              "      <td>1</td>\n",
              "      <td>89</td>\n",
              "      <td>66</td>\n",
              "      <td>23</td>\n",
              "      <td>94</td>\n",
              "      <td>28.1</td>\n",
              "      <td>0.167</td>\n",
              "      <td>21</td>\n",
              "      <td>0</td>\n",
              "    </tr>\n",
              "    <tr>\n",
              "      <th>4</th>\n",
              "      <td>0</td>\n",
              "      <td>137</td>\n",
              "      <td>40</td>\n",
              "      <td>35</td>\n",
              "      <td>168</td>\n",
              "      <td>43.1</td>\n",
              "      <td>2.288</td>\n",
              "      <td>33</td>\n",
              "      <td>1</td>\n",
              "    </tr>\n",
              "    <tr>\n",
              "      <th>...</th>\n",
              "      <td>...</td>\n",
              "      <td>...</td>\n",
              "      <td>...</td>\n",
              "      <td>...</td>\n",
              "      <td>...</td>\n",
              "      <td>...</td>\n",
              "      <td>...</td>\n",
              "      <td>...</td>\n",
              "      <td>...</td>\n",
              "    </tr>\n",
              "    <tr>\n",
              "      <th>763</th>\n",
              "      <td>10</td>\n",
              "      <td>101</td>\n",
              "      <td>76</td>\n",
              "      <td>48</td>\n",
              "      <td>180</td>\n",
              "      <td>32.9</td>\n",
              "      <td>0.171</td>\n",
              "      <td>63</td>\n",
              "      <td>0</td>\n",
              "    </tr>\n",
              "    <tr>\n",
              "      <th>764</th>\n",
              "      <td>2</td>\n",
              "      <td>122</td>\n",
              "      <td>70</td>\n",
              "      <td>27</td>\n",
              "      <td>0</td>\n",
              "      <td>36.8</td>\n",
              "      <td>0.340</td>\n",
              "      <td>27</td>\n",
              "      <td>0</td>\n",
              "    </tr>\n",
              "    <tr>\n",
              "      <th>765</th>\n",
              "      <td>5</td>\n",
              "      <td>121</td>\n",
              "      <td>72</td>\n",
              "      <td>23</td>\n",
              "      <td>112</td>\n",
              "      <td>26.2</td>\n",
              "      <td>0.245</td>\n",
              "      <td>30</td>\n",
              "      <td>0</td>\n",
              "    </tr>\n",
              "    <tr>\n",
              "      <th>766</th>\n",
              "      <td>1</td>\n",
              "      <td>126</td>\n",
              "      <td>60</td>\n",
              "      <td>0</td>\n",
              "      <td>0</td>\n",
              "      <td>30.1</td>\n",
              "      <td>0.349</td>\n",
              "      <td>47</td>\n",
              "      <td>1</td>\n",
              "    </tr>\n",
              "    <tr>\n",
              "      <th>767</th>\n",
              "      <td>1</td>\n",
              "      <td>93</td>\n",
              "      <td>70</td>\n",
              "      <td>31</td>\n",
              "      <td>0</td>\n",
              "      <td>30.4</td>\n",
              "      <td>0.315</td>\n",
              "      <td>23</td>\n",
              "      <td>0</td>\n",
              "    </tr>\n",
              "  </tbody>\n",
              "</table>\n",
              "<p>768 rows × 9 columns</p>\n",
              "</div>"
            ],
            "text/plain": [
              "     Pregnancies  Glucose  BloodPressure  SkinThickness  Insulin   BMI  \\\n",
              "0              6      148             72             35        0  33.6   \n",
              "1              1       85             66             29        0  26.6   \n",
              "2              8      183             64              0        0  23.3   \n",
              "3              1       89             66             23       94  28.1   \n",
              "4              0      137             40             35      168  43.1   \n",
              "..           ...      ...            ...            ...      ...   ...   \n",
              "763           10      101             76             48      180  32.9   \n",
              "764            2      122             70             27        0  36.8   \n",
              "765            5      121             72             23      112  26.2   \n",
              "766            1      126             60              0        0  30.1   \n",
              "767            1       93             70             31        0  30.4   \n",
              "\n",
              "     DiabetesPedigreeFunction  Age  Outcome  \n",
              "0                       0.627   50        1  \n",
              "1                       0.351   31        0  \n",
              "2                       0.672   32        1  \n",
              "3                       0.167   21        0  \n",
              "4                       2.288   33        1  \n",
              "..                        ...  ...      ...  \n",
              "763                     0.171   63        0  \n",
              "764                     0.340   27        0  \n",
              "765                     0.245   30        0  \n",
              "766                     0.349   47        1  \n",
              "767                     0.315   23        0  \n",
              "\n",
              "[768 rows x 9 columns]"
            ]
          },
          "execution_count": 79,
          "metadata": {},
          "output_type": "execute_result"
        }
      ],
      "source": [
        "%matplotlib inline\n",
        "%pip install scipy\n",
        "%pip install scikit-learn\n",
        "\n",
        "import piplite\n",
        "await piplite.install('scikit-learn')\n",
        "import pandas as pd\n",
        "import numpy as np\n",
        "\n",
        "Dataset = pd.read_csv('diabetes.csv')\n",
        "\n",
        "Dataset\n",
        "# Dataset содержит 9 колонок: Pregnancies (Беременности), Glucose (Глюкоза), BloodPressure (Кровяное давление), SkinThickness (Толщина кожи), \n",
        "# Insulin (Инсулин), BMI (Индекс массы тела), DiabetesPedigreeFunction (Родословная диабета), Age (Возраст), \n",
        "# Outcome (Эта колонка отвечает за то подтвердился ли диагноз или нет). "
      ]
    },
    {
      "cell_type": "code",
      "execution_count": 80,
      "metadata": {
        "trusted": true
      },
      "outputs": [],
      "source": [
        "from sklearn.pipeline import Pipeline\n",
        "from sklearn.preprocessing import StandardScaler\n",
        "from sklearn.impute import SimpleImputer\n",
        "import numpy as np\n",
        "from sklearn.linear_model import LinearRegression\n",
        "# Создали Pipeline. В узком смысле пайплайн – это модуль sklearn.pipeline, который позволяет автоматизировать предварительные преобразования данных перед обучением модели. \n",
        "# Добавили в него SimpleImputer. С помощью этого класса мы можем заменить значения NaN(отсутствующие значения) в наборе данных указанным заполнителем. \n",
        "# И добавили StandardScaler, который необходим для стандартизации значений данных в стандартный формат.\n",
        "\n",
        "# Пайплайн\n",
        "pipeline = Pipeline([\n",
        "    ('imputer', SimpleImputer(strategy='median')),\n",
        "    ('std_scaller', StandardScaler())\n",
        "])\n",
        "\n",
        "data = Dataset.drop('Outcome', axis = 1)\n",
        "outcome = Dataset.Outcome\n",
        "\n",
        "data_prepared = pipeline.fit_transform(data)"
      ]
    },
    {
      "cell_type": "code",
      "execution_count": 81,
      "metadata": {
        "trusted": true
      },
      "outputs": [],
      "source": [
        "# Разделяем данные для обучения и теста\n",
        "\n",
        "from sklearn.model_selection import train_test_split \n",
        "data_train, data_test, outcome_train, outcome_test = train_test_split(data_prepared, outcome, test_size = 0.20)"
      ]
    },
    {
      "cell_type": "code",
      "execution_count": 82,
      "metadata": {
        "trusted": true
      },
      "outputs": [
        {
          "name": "stdout",
          "output_type": "stream",
          "text": [
            "Линейная регрессия. Прогнозы: [ 0.65175729  0.00573265  0.73642449 -0.0219232   0.83318937]\n",
            "Линейная регрессия. Метки: [1, 0, 1, 0, 1]\n"
          ]
        }
      ],
      "source": [
        "# Линейная регрессия\n",
        "model = LinearRegression().fit(data_prepared,outcome)\n",
        "\n",
        "some_data = data.iloc[:5]\n",
        "some_output = outcome.iloc[:5]\n",
        "data_prepared_some = pipeline.transform(some_data)\n",
        "\n",
        "# Обучили модель с помощью алгоритма «Линейной регрессии». Сравнили первые 5 объектов. Вывели прогнозы и метки для них. \n",
        "print(\"Линейная регрессия. Прогнозы:\", model.predict(data_prepared_some))\n",
        "print(\"Линейная регрессия. Метки:\",list(some_output))\n",
        "# Если округлять полученные значения, то можно сделать вывод, что они совпадают с метками. "
      ]
    },
    {
      "cell_type": "code",
      "execution_count": 83,
      "metadata": {
        "trusted": true
      },
      "outputs": [
        {
          "name": "stdout",
          "output_type": "stream",
          "text": [
            "Среднеквадратическое отклонение. Линейная регрессия: 0.39785855691820504\n"
          ]
        }
      ],
      "source": [
        "from sklearn.tree import DecisionTreeRegressor\n",
        "from sklearn.metrics import mean_squared_error\n",
        "\n",
        "data_predictions = model.predict(data_prepared)\n",
        "linear_mse = mean_squared_error(outcome, data_predictions)\n",
        "lin_rmse = np.sqrt(linear_mse)\n",
        "print(\"Среднеквадратическое отклонение. Линейная регрессия:\",lin_rmse)"
      ]
    },
    {
      "cell_type": "code",
      "execution_count": 84,
      "metadata": {
        "trusted": true
      },
      "outputs": [],
      "source": [
        "model.fit(data_train, outcome_train)\n",
        "y_pred = model.predict(data_test)"
      ]
    },
    {
      "cell_type": "code",
      "execution_count": 85,
      "metadata": {
        "trusted": true
      },
      "outputs": [
        {
          "name": "stdout",
          "output_type": "stream",
          "text": [
            "[[83  8]\n",
            " [28 35]]\n",
            "              precision    recall  f1-score   support\n",
            "\n",
            "           0       0.75      0.91      0.82        91\n",
            "           1       0.81      0.56      0.66        63\n",
            "\n",
            "    accuracy                           0.77       154\n",
            "   macro avg       0.78      0.73      0.74       154\n",
            "weighted avg       0.77      0.77      0.76       154\n",
            "\n"
          ]
        }
      ],
      "source": [
        "from sklearn.metrics import classification_report, confusion_matrix \n",
        "# Матрица ошибок – это показатель успешности классификации, где классов два или более. \n",
        "# Это таблица с 4 различными комбинациями сочетаний прогнозируемых и фактических значений.\n",
        "# В таблице содержится информация сколько раз система приняла верное и сколько раз неверное решение по документам заданного класса. А именно:\n",
        "# TP — истино-положительное решение;\n",
        "# TN — истино-отрицательное решение;\n",
        "# FP — ложно-положительное решение;\n",
        "# FN — ложно-отрицательное решение\n",
        "print(confusion_matrix(outcome_test,y_pred.round()))\n",
        "\n",
        "# Точность системы (precision) в пределах класса – это доля документов действительно принадлежащих данному классу \n",
        "# относительно всех документов которые система отнесла к этому классу. \n",
        "# Полнота системы (recall) – это доля найденных классфикатором документов принадлежащих классу относительно всех документов этого класса в тестовой выборке.\n",
        "\n",
        "# F-мера: Понятно что чем выше точность и полнота, тем лучше. \n",
        "# Но в реальной жизни максимальная точность и полнота не достижимы одновременно и приходится искать некий баланс.\n",
        "# Поэтому, хотелось бы иметь некую метрику которая объединяла бы в себе информацию о точности и полноте нашего алгоритма. \n",
        "# Именно такой метрикой является F-мера.\n",
        "\n",
        "# Accuracy — это показатель, который описывает общую точность предсказания модели по всем классам. \n",
        "# Это особенно полезно, когда каждый класс одинаково важен. \n",
        "# Он рассчитывается как отношение количества правильных прогнозов к их общему количеству.\n",
        "print(classification_report(outcome_test,y_pred.round()))"
      ]
    },
    {
      "cell_type": "code",
      "execution_count": 86,
      "metadata": {
        "trusted": true
      },
      "outputs": [
        {
          "data": {
            "text/plain": [
              "<sklearn.metrics._plot.roc_curve.RocCurveDisplay at 0x62f25e8>"
            ]
          },
          "execution_count": 86,
          "metadata": {},
          "output_type": "execute_result"
        },
        {
          "data": {
            "image/png": "[encoded data removed]",
            "text/plain": [
              "<Figure size 640x480 with 1 Axes>"
            ]
          },
          "metadata": {},
          "output_type": "display_data"
        }
      ],
      "source": [
        "from sklearn.metrics import RocCurveDisplay\n",
        "# ROC-кривая — график, позволяющий оценить качество бинарной классификации, \n",
        "# отображает соотношение между долей объектов от общего количества носителей признака, \n",
        "# верно классифицированных как несущие признак   долей объектов от общего количества объектов,\n",
        "# не несущих признака, ошибочно классифицированных как несущие признак\n",
        "# при варьировании порога решающего правила.\n",
        "RocCurveDisplay.from_predictions(outcome_test, y_pred, name=\"ROC-кривая\")\n",
        "# Чем больше площадь под кривой (AUC), тем лучше классификация. \n",
        "# Если судить по этому признаку, то в данной лабораторной работе лучше всего подходит метод линейной регрессии. "
      ]
    },
    {
      "cell_type": "code",
      "execution_count": 87,
      "metadata": {
        "trusted": true
      },
      "outputs": [
        {
          "data": {
            "text/plain": [
              "{'copy_X': True,\n",
              " 'fit_intercept': True,\n",
              " 'n_jobs': None,\n",
              " 'normalize': 'deprecated',\n",
              " 'positive': False}"
            ]
          },
          "execution_count": 87,
          "metadata": {},
          "output_type": "execute_result"
        }
      ],
      "source": [
        "linearRegressor = LinearRegression()\n",
        "linearRegressor.get_params()"
      ]
    },
    {
      "cell_type": "code",
      "execution_count": 88,
      "metadata": {
        "trusted": true
      },
      "outputs": [
        {
          "data": {
            "text/plain": [
              "{'n_jobs': 3, 'positive': True}"
            ]
          },
          "execution_count": 88,
          "metadata": {},
          "output_type": "execute_result"
        }
      ],
      "source": [
        "from sklearn.model_selection import GridSearchCV\n",
        "# Гиперпараметры в линейной регрессии\n",
        "param_grid = [\n",
        "    {\n",
        "        'copy_X':[False], 'fit_intercept':[False],\n",
        "    }, \n",
        "    {\n",
        "        'positive':[True],'n_jobs':[3,10,30]\n",
        "    }\n",
        "]\n",
        "grid_search = GridSearchCV(linearRegressor,param_grid=param_grid, cv=5, scoring='neg_mean_squared_error',return_train_score=True)\n",
        "grid_search.fit(data_prepared,outcome)\n",
        "grid_search.best_params_"
      ]
    },
    {
      "cell_type": "code",
      "execution_count": 89,
      "metadata": {
        "trusted": true
      },
      "outputs": [],
      "source": [
        "import pickle\n",
        "# Сохранили модель в формате pickle\n",
        "file = open('models/linear_regressor.pkl', 'wb')\n",
        "pickle.dump(grid_search.best_params_, file, pickle.HIGHEST_PROTOCOL)\n",
        "file.close()"
      ]
    },
    {
      "cell_type": "code",
      "execution_count": 90,
      "metadata": {
        "trusted": true
      },
      "outputs": [
        {
          "name": "stdout",
          "output_type": "stream",
          "text": [
            "Среднеквадратическое отклонение. Дерево решений: 0.0\n"
          ]
        }
      ],
      "source": [
        "# Дерево решений\n",
        "tree_regressor = DecisionTreeRegressor()\n",
        "tree_regressor.fit(data_prepared,outcome)\n",
        "\n",
        "data_predictions = tree_regressor.predict(data_prepared)\n",
        "linear_mse = mean_squared_error(outcome, data_predictions)\n",
        "lin_rmse = np.sqrt(linear_mse)\n",
        "print(\"Среднеквадратическое отклонение. Дерево решений:\",lin_rmse)"
      ]
    },
    {
      "cell_type": "code",
      "execution_count": 91,
      "metadata": {
        "trusted": true
      },
      "outputs": [
        {
          "name": "stdout",
          "output_type": "stream",
          "text": [
            "[[68 23]\n",
            " [22 41]]\n",
            "              precision    recall  f1-score   support\n",
            "\n",
            "           0       0.76      0.75      0.75        91\n",
            "           1       0.64      0.65      0.65        63\n",
            "\n",
            "    accuracy                           0.71       154\n",
            "   macro avg       0.70      0.70      0.70       154\n",
            "weighted avg       0.71      0.71      0.71       154\n",
            "\n"
          ]
        },
        {
          "data": {
            "text/plain": [
              "<sklearn.metrics._plot.roc_curve.RocCurveDisplay at 0x5b29120>"
            ]
          },
          "execution_count": 91,
          "metadata": {},
          "output_type": "execute_result"
        },
        {
          "data": {
            "image/png": "[encoded data removed]",
            "text/plain": [
              "<Figure size 640x480 with 1 Axes>"
            ]
          },
          "metadata": {},
          "output_type": "display_data"
        }
      ],
      "source": [
        "tree_regressor.fit(data_train, outcome_train)\n",
        "y_pred = tree_regressor.predict(data_test)\n",
        "# Матрица ошибок в дереве решений.\n",
        "print(confusion_matrix(outcome_test,y_pred))\n",
        "\n",
        "print(classification_report(outcome_test,y_pred))\n",
        "\n",
        "# Точность системы, полнота системы и F-мера в дереве решений.\n",
        "RocCurveDisplay.from_predictions(outcome_test, y_pred, name=\"ROC-кривая\")"
      ]
    },
    {
      "cell_type": "code",
      "execution_count": 92,
      "metadata": {
        "trusted": true
      },
      "outputs": [
        {
          "data": {
            "text/plain": [
              "{'ccp_alpha': 0.0,\n",
              " 'criterion': 'squared_error',\n",
              " 'max_depth': None,\n",
              " 'max_features': None,\n",
              " 'max_leaf_nodes': None,\n",
              " 'min_impurity_decrease': 0.0,\n",
              " 'min_samples_leaf': 1,\n",
              " 'min_samples_split': 2,\n",
              " 'min_weight_fraction_leaf': 0.0,\n",
              " 'random_state': None,\n",
              " 'splitter': 'best'}"
            ]
          },
          "execution_count": 92,
          "metadata": {},
          "output_type": "execute_result"
        }
      ],
      "source": [
        "tree_regressor.get_params()"
      ]
    },
    {
      "cell_type": "code",
      "execution_count": 93,
      "metadata": {
        "trusted": true
      },
      "outputs": [
        {
          "data": {
            "text/plain": [
              "{'max_features': 5, 'min_samples_leaf': 7}"
            ]
          },
          "execution_count": 93,
          "metadata": {},
          "output_type": "execute_result"
        }
      ],
      "source": [
        "# Гиперпараметры в дереве решений.\n",
        "param_grid = [\n",
        "    {\n",
        "        'max_features':[1,5,10], 'min_samples_leaf':[3,7,2]\n",
        "    }, \n",
        "]\n",
        "grid_search = GridSearchCV(tree_regressor,param_grid=param_grid, cv=5, scoring='neg_mean_squared_error',return_train_score=True)\n",
        "grid_search.fit(data_prepared,outcome)\n",
        "grid_search.best_params_"
      ]
    },
    {
      "cell_type": "code",
      "execution_count": 94,
      "metadata": {
        "trusted": true
      },
      "outputs": [],
      "source": [
        "import pickle\n",
        "# Сохранили модель в формате pickle\n",
        "\n",
        "file = open('models/tree_regressor.pkl', 'wb')\n",
        "pickle.dump(grid_search.best_params_, file, pickle.HIGHEST_PROTOCOL)\n",
        "file.close()"
      ]
    },
    {
      "cell_type": "code",
      "execution_count": 95,
      "metadata": {
        "trusted": true
      },
      "outputs": [],
      "source": [
        "# Метод опорных векторов\n",
        "from sklearn.svm import SVC \n",
        "svclassifier = SVC(kernel='linear') \n",
        "svclassifier.fit(data_train, outcome_train)\n",
        "y_pred = svclassifier.predict(data_test)"
      ]
    },
    {
      "cell_type": "code",
      "execution_count": 96,
      "metadata": {
        "trusted": true
      },
      "outputs": [
        {
          "name": "stdout",
          "output_type": "stream",
          "text": [
            "[[83  8]\n",
            " [28 35]]\n",
            "              precision    recall  f1-score   support\n",
            "\n",
            "           0       0.75      0.91      0.82        91\n",
            "           1       0.81      0.56      0.66        63\n",
            "\n",
            "    accuracy                           0.77       154\n",
            "   macro avg       0.78      0.73      0.74       154\n",
            "weighted avg       0.77      0.77      0.76       154\n",
            "\n"
          ]
        }
      ],
      "source": [
        "from sklearn.metrics import classification_report, confusion_matrix \n",
        "# Матрица ошибок в методе опорных векторов.\n",
        "print(confusion_matrix(outcome_test,y_pred))\n",
        "\n",
        "# Точность системы, полнота системы и F-мера в методе опорных векторов.\n",
        "print(classification_report(outcome_test,y_pred))"
      ]
    },
    {
      "cell_type": "code",
      "execution_count": 97,
      "metadata": {
        "trusted": true
      },
      "outputs": [
        {
          "data": {
            "image/png": "[encoded data removed]",
            "text/plain": [
              "<Figure size 640x480 with 1 Axes>"
            ]
          },
          "metadata": {},
          "output_type": "display_data"
        }
      ],
      "source": [
        "from sklearn.metrics import RocCurveDisplay\n",
        "RocCurveDisplay.from_predictions(outcome_test,y_pred, name=\"ROC_AUC\")"
      ]
    },
    {
      "cell_type": "code",
      "execution_count": 98,
      "metadata": {
        "trusted": true
      },
      "outputs": [
        {
          "data": {
            "text/plain": [
              "{'C': 1.0,\n",
              " 'break_ties': False,\n",
              " 'cache_size': 200,\n",
              " 'class_weight': None,\n",
              " 'coef0': 0.0,\n",
              " 'decision_function_shape': 'ovr',\n",
              " 'degree': 3,\n",
              " 'gamma': 'scale',\n",
              " 'kernel': 'linear',\n",
              " 'max_iter': -1,\n",
              " 'probability': False,\n",
              " 'random_state': None,\n",
              " 'shrinking': True,\n",
              " 'tol': 0.001,\n",
              " 'verbose': False}"
            ]
          },
          "execution_count": 98,
          "metadata": {},
          "output_type": "execute_result"
        }
      ],
      "source": [
        "svclassifier.get_params()"
      ]
    },
    {
      "cell_type": "code",
      "execution_count": 99,
      "metadata": {
        "trusted": true
      },
      "outputs": [
        {
          "data": {
            "text/plain": [
              "{'C': 1.0, 'break_ties': False, 'probability': True}"
            ]
          },
          "execution_count": 99,
          "metadata": {},
          "output_type": "execute_result"
        }
      ],
      "source": [
        "from sklearn.model_selection import GridSearchCV\n",
        "# Гиперпараметры в методе опорных векторов\n",
        "param_grid = [\n",
        "    {\n",
        "        'C':[0.2], 'break_ties':[True], 'probability': [False]\n",
        "    }, \n",
        "    {\n",
        "        'C':[1.0], 'break_ties':[False], 'probability': [True]\n",
        "    }\n",
        "]\n",
        "grid_search = GridSearchCV(svclassifier,param_grid=param_grid, cv=5, scoring='neg_mean_squared_error',return_train_score=True)\n",
        "grid_search.fit(data_prepared,outcome)\n",
        "grid_search.best_params_"
      ]
    },
    {
      "cell_type": "code",
      "execution_count": 100,
      "metadata": {
        "trusted": true
      },
      "outputs": [],
      "source": [
        "import pickle\n",
        "# Сохранили модель в формате pickle\n",
        "\n",
        "file = open('models/svc.pkl', 'wb')\n",
        "pickle.dump(grid_search.best_params_, file, pickle.HIGHEST_PROTOCOL)\n",
        "file.close()"
      ]
    },
    {
      "cell_type": "code",
      "execution_count": 101,
      "metadata": {
        "trusted": true
      },
      "outputs": [],
      "source": [
        "# Метод k-ближайших соседей\n",
        "from sklearn.neighbors import KNeighborsClassifier \n",
        "knnclassifier = KNeighborsClassifier(n_neighbors=5) \n",
        "knnclassifier.fit(data_train, outcome_train)\n",
        "y_pred = knnclassifier.predict(data_test)"
      ]
    },
    {
      "cell_type": "code",
      "execution_count": 102,
      "metadata": {
        "trusted": true
      },
      "outputs": [
        {
          "name": "stdout",
          "output_type": "stream",
          "text": [
            "[[84  7]\n",
            " [30 33]]\n",
            "              precision    recall  f1-score   support\n",
            "\n",
            "           0       0.74      0.92      0.82        91\n",
            "           1       0.82      0.52      0.64        63\n",
            "\n",
            "    accuracy                           0.76       154\n",
            "   macro avg       0.78      0.72      0.73       154\n",
            "weighted avg       0.77      0.76      0.75       154\n",
            "\n"
          ]
        }
      ],
      "source": [
        "from sklearn.metrics import classification_report, confusion_matrix \n",
        "# Матрица ошибок в методе k-ближайших соседей.\n",
        "print(confusion_matrix(outcome_test,y_pred)) \n",
        "\n",
        "# Точность системы, полнота системы и F-мера в методе k-ближайших соседей.\n",
        "print(classification_report(outcome_test,y_pred))"
      ]
    },
    {
      "cell_type": "code",
      "execution_count": 103,
      "metadata": {
        "trusted": true
      },
      "outputs": [
        {
          "data": {
            "text/plain": [
              "<sklearn.metrics._plot.roc_curve.RocCurveDisplay at 0x6817708>"
            ]
          },
          "execution_count": 103,
          "metadata": {},
          "output_type": "execute_result"
        },
        {
          "data": {
            "image/png": "[encoded data removed]",
            "text/plain": [
              "<Figure size 640x480 with 1 Axes>"
            ]
          },
          "metadata": {},
          "output_type": "display_data"
        }
      ],
      "source": [
        "RocCurveDisplay.from_predictions(outcome_test, y_pred, name=\"ROC-кривая\")"
      ]
    },
    {
      "cell_type": "code",
      "execution_count": 104,
      "metadata": {
        "trusted": true
      },
      "outputs": [
        {
          "data": {
            "text/plain": [
              "{'algorithm': 'auto',\n",
              " 'leaf_size': 30,\n",
              " 'metric': 'minkowski',\n",
              " 'metric_params': None,\n",
              " 'n_jobs': None,\n",
              " 'n_neighbors': 5,\n",
              " 'p': 2,\n",
              " 'weights': 'uniform'}"
            ]
          },
          "execution_count": 104,
          "metadata": {},
          "output_type": "execute_result"
        }
      ],
      "source": [
        "knnclassifier.get_params()"
      ]
    },
    {
      "cell_type": "code",
      "execution_count": 105,
      "metadata": {
        "trusted": true
      },
      "outputs": [
        {
          "data": {
            "text/plain": [
              "{'n_neighbors': 15, 'weights': 'distance'}"
            ]
          },
          "execution_count": 105,
          "metadata": {},
          "output_type": "execute_result"
        }
      ],
      "source": [
        "from sklearn.model_selection import GridSearchCV\n",
        "# Гиперпараметры в методе k-ближайших соседей\n",
        "param_grid = [\n",
        "    {\n",
        "        'n_neighbors':[5,7,15], 'weights':['distance']\n",
        "    }, \n",
        "    {\n",
        "        'n_neighbors':[1,3,20], 'weights':['uniform']\n",
        "    }\n",
        "]\n",
        "grid_search = GridSearchCV(knnclassifier,param_grid=param_grid, cv=5, scoring='neg_mean_squared_error',return_train_score=True)\n",
        "grid_search.fit(data_prepared,outcome)\n",
        "grid_search.best_params_"
      ]
    },
    {
      "cell_type": "code",
      "execution_count": 106,
      "metadata": {
        "trusted": true
      },
      "outputs": [],
      "source": [
        "import pickle\n",
        "# Сохранили модель в формате pickle\n",
        "\n",
        "file = open('models/knn.pkl', 'wb')\n",
        "pickle.dump(grid_search.best_params_, file, pickle.HIGHEST_PROTOCOL)\n",
        "file.close()"
      ]
    },
    {
      "cell_type": "code",
      "execution_count": 112,
      "metadata": {
        "trusted": true
      },
      "outputs": [
        {
          "name": "stdout",
          "output_type": "stream",
          "text": [
            "0.15097167918741142\n",
            "Оценки: [0.41913485 0.44880071 0.39005994 0.35050664 0.41824251]\n",
            "Среднее: 0.4053489293371615\n",
            "Стандартное отклонение: 0.03312335706218993\n"
          ]
        }
      ],
      "source": [
        "# Случайный лес\n",
        "\n",
        "from sklearn.ensemble import RandomForestRegressor\n",
        "from sklearn.model_selection import cross_val_score\n",
        "\n",
        "def display_scores(scores):\n",
        "    print(\"Оценки:\",scores)\n",
        "    print(\"Среднее:\", scores.mean())\n",
        "    print(\"Стандартное отклонение:\",scores.std())\n",
        "\n",
        "forest_model = RandomForestRegressor()\n",
        "forest_model.fit(data_prepared,outcome)\n",
        "forest_rmse = mean_squared_error(outcome, forest_model.predict(data_prepared))\n",
        "print(np.sqrt(forest_rmse))\n",
        "forest_rmse_scores = cross_val_score(forest_model, data_prepared,outcome,scoring='neg_mean_squared_error')\n",
        "display_scores(np.sqrt(-forest_rmse_scores))"
      ]
    },
    {
      "cell_type": "code",
      "execution_count": 114,
      "metadata": {
        "trusted": true
      },
      "outputs": [
        {
          "name": "stdout",
          "output_type": "stream",
          "text": [
            "[[79 12]\n",
            " [23 40]]\n",
            "              precision    recall  f1-score   support\n",
            "\n",
            "           0       0.77      0.87      0.82        91\n",
            "           1       0.77      0.63      0.70        63\n",
            "\n",
            "    accuracy                           0.77       154\n",
            "   macro avg       0.77      0.75      0.76       154\n",
            "weighted avg       0.77      0.77      0.77       154\n",
            "\n"
          ]
        }
      ],
      "source": [
        "from sklearn.metrics import classification_report, confusion_matrix \n",
        "forest_model.fit(data_train, outcome_train)\n",
        "y_pred = forest_model.predict(data_test)\n",
        "\n",
        "# Матрица ошибок в методе \"Случайный лес\".\n",
        "print(confusion_matrix(outcome_test,y_pred.round()))\n",
        "\n",
        "# Точность системы, полнота системы и F-мера в методе \"Случайный лес\".\n",
        "print(classification_report(outcome_test,y_pred.round()))"
      ]
    },
    {
      "cell_type": "code",
      "execution_count": 115,
      "metadata": {
        "trusted": true
      },
      "outputs": [
        {
          "data": {
            "text/plain": [
              "<sklearn.metrics._plot.roc_curve.RocCurveDisplay at 0x5be3548>"
            ]
          },
          "execution_count": 115,
          "metadata": {},
          "output_type": "execute_result"
        },
        {
          "data": {
            "image/png": "[encoded data removed]",
            "text/plain": [
              "<Figure size 640x480 with 1 Axes>"
            ]
          },
          "metadata": {},
          "output_type": "display_data"
        }
      ],
      "source": [
        "RocCurveDisplay.from_predictions(outcome_test, y_pred, name=\"ROC-кривая\")"
      ]
    },
    {
      "cell_type": "code",
      "execution_count": 116,
      "metadata": {
        "trusted": true
      },
      "outputs": [
        {
          "data": {
            "text/plain": [
              "{'max_features': 2, 'n_estimators': 30}"
            ]
          },
          "execution_count": 116,
          "metadata": {},
          "output_type": "execute_result"
        }
      ],
      "source": [
        "# Гиперпараметры случайного леса\n",
        "\n",
        "from sklearn.model_selection import GridSearchCV\n",
        "\n",
        "param_grid = [\n",
        "    {\n",
        "        'n_estimators':[3,10,30], 'max_features':[2,4,7]\n",
        "    }, \n",
        "    {\n",
        "        'bootstrap':[False],'n_estimators':[3,10,30],'max_features':[2,3,4]   \n",
        "    }\n",
        "]\n",
        "\n",
        "regressor = RandomForestRegressor()\n",
        "grid_search = GridSearchCV(regressor,param_grid=param_grid, cv=5, scoring='neg_mean_squared_error',return_train_score=True)\n",
        "grid_search.fit(data_prepared,outcome)\n",
        "grid_search.best_params_"
      ]
    },
    {
      "cell_type": "code",
      "execution_count": 117,
      "metadata": {
        "trusted": true
      },
      "outputs": [],
      "source": [
        "import pickle\n",
        "# Сохранили модель в формате pickle\n",
        "\n",
        "file = open('models/random_forest.pkl', 'wb')\n",
        "pickle.dump(grid_search.best_params_, file, pickle.HIGHEST_PROTOCOL)\n",
        "file.close()"
      ]
    },
    {
      "cell_type": "code",
      "execution_count": 118,
      "metadata": {
        "trusted": true
      },
      "outputs": [
        {
          "name": "stdout",
          "output_type": "stream",
          "text": [
            "0.48680506023116343\n",
            "Оценки: [0.49674264 0.52223297 0.50323628 0.46442036 0.50487816]\n",
            "Среднее: 0.4983020824505434\n",
            "Стандартное отклонение: 0.018924487568488572\n"
          ]
        }
      ],
      "source": [
        "from sklearn.naive_bayes import GaussianNB\n",
        "\n",
        "# Наивный байесовский классификатор\n",
        "gnb_model = GaussianNB()\n",
        "gnb_model.fit(data_prepared,outcome)\n",
        "gnb_rmse = mean_squared_error(outcome, gnb_model.predict(data_prepared))\n",
        "print(np.sqrt(gnb_rmse))\n",
        "gnb_rmse_scores = cross_val_score(gnb_model, data_prepared,outcome,scoring='neg_mean_squared_error')\n",
        "display_scores(np.sqrt(-gnb_rmse_scores))"
      ]
    },
    {
      "cell_type": "code",
      "execution_count": 119,
      "metadata": {
        "trusted": true
      },
      "outputs": [
        {
          "name": "stdout",
          "output_type": "stream",
          "text": [
            "[[83  8]\n",
            " [28 35]]\n",
            "              precision    recall  f1-score   support\n",
            "\n",
            "           0       0.75      0.91      0.82        91\n",
            "           1       0.81      0.56      0.66        63\n",
            "\n",
            "    accuracy                           0.77       154\n",
            "   macro avg       0.78      0.73      0.74       154\n",
            "weighted avg       0.77      0.77      0.76       154\n",
            "\n"
          ]
        }
      ],
      "source": [
        "from sklearn.metrics import classification_report, confusion_matrix \n",
        "\n",
        "gnb_model.fit(data_train, outcome_train)\n",
        "y_pred = svclassifier.predict(data_test)\n",
        "\n",
        "# Матрица ошибок в наивном байесовском классификаторе.\n",
        "print(confusion_matrix(outcome_test,y_pred)) \n",
        "\n",
        "# Точность системы, полнота системы и F-мера в наивном байесовском классификаторе.\n",
        "print(classification_report(outcome_test,y_pred))"
      ]
    },
    {
      "cell_type": "code",
      "execution_count": 120,
      "metadata": {
        "trusted": true
      },
      "outputs": [
        {
          "data": {
            "text/plain": [
              "<sklearn.metrics._plot.roc_curve.RocCurveDisplay at 0x68400e8>"
            ]
          },
          "execution_count": 120,
          "metadata": {},
          "output_type": "execute_result"
        },
        {
          "data": {
            "image/png": "[encoded data removed]",
            "text/plain": [
              "<Figure size 640x480 with 1 Axes>"
            ]
          },
          "metadata": {},
          "output_type": "display_data"
        }
      ],
      "source": [
        "RocCurveDisplay.from_predictions(outcome_test, y_pred, name=\"ROC-кривая\")"
      ]
    },
    {
      "cell_type": "code",
      "execution_count": 121,
      "metadata": {
        "trusted": true
      },
      "outputs": [
        {
          "data": {
            "text/plain": [
              "{'priors': None, 'var_smoothing': 1e-09}"
            ]
          },
          "execution_count": 121,
          "metadata": {},
          "output_type": "execute_result"
        }
      ],
      "source": [
        "gnb_model.get_params()"
      ]
    },
    {
      "cell_type": "code",
      "execution_count": 122,
      "metadata": {
        "trusted": true
      },
      "outputs": [
        {
          "data": {
            "text/plain": [
              "{'priors': None, 'var_smoothing': 1e-09}"
            ]
          },
          "execution_count": 122,
          "metadata": {},
          "output_type": "execute_result"
        }
      ],
      "source": [
        "# Гиперпараметры в наивном байесовском классификаторе.\n",
        "param_grid = [\n",
        "    {\n",
        "        'priors':[None], 'var_smoothing':[0.000000001, 0.0000001, 0.001]\n",
        "    }, \n",
        "]\n",
        "\n",
        "grid_search = GridSearchCV(gnb_model,param_grid=param_grid, cv=5, scoring='neg_mean_squared_error',return_train_score=True)\n",
        "grid_search.fit(data_prepared,outcome)\n",
        "grid_search.best_params_"
      ]
    },
    {
      "cell_type": "code",
      "execution_count": 123,
      "metadata": {
        "trusted": true
      },
      "outputs": [],
      "source": [
        "import pickle\n",
        "# Сохранили модель в формате pickle\n",
        "\n",
        "file = open('models/naive_bayes.pkl', 'wb')\n",
        "pickle.dump(grid_search.best_params_, file, pickle.HIGHEST_PROTOCOL)\n",
        "file.close()"
      ]
    },
    {
      "cell_type": "code",
      "execution_count": null,
      "metadata": {},
      "outputs": [],
      "source": []
    }
  ],
  "metadata": {
    "kernelspec": {
      "display_name": "Python (Pyodide)",
      "language": "python",
      "name": "python"
    },
    "language_info": {
      "codemirror_mode": {
        "name": "python",
        "version": 3
      },
      "file_extension": ".py",
      "mimetype": "text/x-python",
      "name": "python",
      "nbconvert_exporter": "python",
      "pygments_lexer": "ipython3",
      "version": "3.8"
    }
  },
  "nbformat": 4,
  "nbformat_minor": 4
}
